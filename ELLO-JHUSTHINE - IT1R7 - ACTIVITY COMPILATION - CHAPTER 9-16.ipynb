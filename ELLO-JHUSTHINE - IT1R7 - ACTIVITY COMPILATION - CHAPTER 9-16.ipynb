{
 "cells": [
  {
   "cell_type": "code",
   "execution_count": 1,
   "id": "relative-teens",
   "metadata": {},
   "outputs": [
    {
     "name": "stdout",
     "output_type": "stream",
     "text": [
      "Discuss your learnings on from Chapter 9\n",
      "Graph Introduction can be a complex in which the graph data structure is an undirected graph because there is no direction between two nodes. Individual entities arecalled nodes but the thing that connects to those entities are called edges. One of the utilityof data structure is facebook friends suggestion which if someone is requesting to be friendwith then there is a possibility that someone's friend can also be my friend because it isconnected to my friends then a possibility it can also be my friend, that's how Graph utilityworks, it's all about connections.The difference between Graph and Tree is that, in a tree there is only one pathbetween two nodes, so that tree can be thought of as a special type of graph and in graph isa complex data structure where it can randomly connect any two nodes.In Python programming, a tuple is similar to a list. The difference between the two isthat we cannot change the elements of a tuple once it is assigned whereas in a list, elementscan be changed and every tuple indicates one route.A tuple is created by placing all the items elements inside a parentheses,separated by comma. The parentheses are optional but it is a good practice to write it. Atuple can have any number of items and they may be of different types integer, float, list,string etc.\n"
     ]
    }
   ],
   "source": [
    "print(\"Discuss your learnings on from Chapter 9\")\n",
    "print(\"Graph Introduction can be a complex in which the graph data structure is an undirected graph because there is no direction between two nodes. Individual entities arecalled nodes but the thing that connects to those entities are called edges. One of the utilityof data structure is facebook friends suggestion which if someone is requesting to be friendwith then there is a possibility that someone's friend can also be my friend because it isconnected to my friends then a possibility it can also be my friend, that's how Graph utilityworks, it's all about connections.The difference between Graph and Tree is that, in a tree there is only one pathbetween two nodes, so that tree can be thought of as a special type of graph and in graph isa complex data structure where it can randomly connect any two nodes.In Python programming, a tuple is similar to a list. The difference between the two isthat we cannot change the elements of a tuple once it is assigned whereas in a list, elementscan be changed and every tuple indicates one route.A tuple is created by placing all the items elements inside a parentheses,separated by comma. The parentheses are optional but it is a good practice to write it. Atuple can have any number of items and they may be of different types integer, float, list,string etc.\")"
   ]
  },
  {
   "cell_type": "code",
   "execution_count": 2,
   "id": "printable-ceiling",
   "metadata": {},
   "outputs": [
    {
     "name": "stdout",
     "output_type": "stream",
     "text": [
      "Discuss your learnings on from Chapter 10\n",
      "The index starts from 0th position until one element by one element to find thelooking answer in the second to the last position. Binary Search works on the concept ofsorted list. Binary search looks for a particular item by comparing the middle most item of thecollection.If a match occurs, then the index of the item is returned. If the middle item is greaterthan the item, then the item is searched in the sub-array to the left of the middle item. Bydoing the comparison there is a possibility that the number exists in the left hand side of thearray, so all the elements have grade out and the number is not that particular portion of thearray so that it can be discarded. Talking about the array is basically a data structure thatstores data in a linear fashion. There is no exclusive array object in Python because the usercan perform all the operations of an array using a list. So, Python does all the array relatedoperations using the list object. The array is an ordered collection of elements in a sequentialmanner.Array is also a container which can hold a fixed number of items and these itemsshould be of the same type. The following are the important points to be considered. Indexstarts with 0. Array length is 10 which means it can store 10 elements. Each element can beaccessed via its index.\n"
     ]
    }
   ],
   "source": [
    "print(\"Discuss your learnings on from Chapter 10\")\n",
    "print(\"The index starts from 0th position until one element by one element to find thelooking answer in the second to the last position. Binary Search works on the concept ofsorted list. Binary search looks for a particular item by comparing the middle most item of thecollection.If a match occurs, then the index of the item is returned. If the middle item is greaterthan the item, then the item is searched in the sub-array to the left of the middle item. Bydoing the comparison there is a possibility that the number exists in the left hand side of thearray, so all the elements have grade out and the number is not that particular portion of thearray so that it can be discarded. Talking about the array is basically a data structure thatstores data in a linear fashion. There is no exclusive array object in Python because the usercan perform all the operations of an array using a list. So, Python does all the array relatedoperations using the list object. The array is an ordered collection of elements in a sequentialmanner.Array is also a container which can hold a fixed number of items and these itemsshould be of the same type. The following are the important points to be considered. Indexstarts with 0. Array length is 10 which means it can store 10 elements. Each element can beaccessed via its index.\")"
   ]
  },
  {
   "cell_type": "code",
   "execution_count": 3,
   "id": "lyric-equivalent",
   "metadata": {},
   "outputs": [
    {
     "name": "stdout",
     "output_type": "stream",
     "text": [
      "Discuss your learnings on from Chapter 11\n",
      "Bubble sort is a basic algorithm for arranging a string of numbers or other elementsin the correct order. The method works by examining each set of adjacent elements in thestring, from left to right, switching their positions if they are out of order.Sorting is a very common use of things when you are doing software developmentand bubble short is one of the sorting techniques. The work is to have a list of numbers andthis list will begin by comparing the first two numbers then if the first number is greater thanthe second, the two numbers must be exchanged then repeat the process on the followingelement. Until the very end will happen as a result of the process which was the highestnumber will go to the very end. The highest number must be in the last position.Bubble Sort doing is in each iteration must come to take two consecutive elementsand compare the first element id greater than the second. If the last two elements arealready sorted so it must keep on doing the process for as many times as there are elementsin the list it will get the whole list sorted.\n"
     ]
    }
   ],
   "source": [
    "print(\"Discuss your learnings on from Chapter 11\")\n",
    "print(\"Bubble sort is a basic algorithm for arranging a string of numbers or other elementsin the correct order. The method works by examining each set of adjacent elements in thestring, from left to right, switching their positions if they are out of order.Sorting is a very common use of things when you are doing software developmentand bubble short is one of the sorting techniques. The work is to have a list of numbers andthis list will begin by comparing the first two numbers then if the first number is greater thanthe second, the two numbers must be exchanged then repeat the process on the followingelement. Until the very end will happen as a result of the process which was the highestnumber will go to the very end. The highest number must be in the last position.Bubble Sort doing is in each iteration must come to take two consecutive elementsand compare the first element id greater than the second. If the last two elements arealready sorted so it must keep on doing the process for as many times as there are elementsin the list it will get the whole list sorted.\")"
   ]
  },
  {
   "cell_type": "code",
   "execution_count": 4,
   "id": "skilled-analyst",
   "metadata": {},
   "outputs": [
    {
     "name": "stdout",
     "output_type": "stream",
     "text": [
      "Discuss your learnings on from Chapter 12\n",
      "The first element was called a pivot. And all the elements on the left hand side are smaller than all the elements on the right hand side which is greater than the left. In some way of putting the Pivot into its right position which is in the middle and the left side on it are elements which are less than the shaded number and in the right elements which are less than greater the shaded number. Two arrays which are the one in the left array are two andin the right array is only a single element number and if they have a single element then theyare called sorted.In divide and conquer problem, it solve the sort one element which is the pivot andcreate a left and right hand side of two partitions and it recursively repeat the same processon the partitions.Putting a pivot in the right position is called partitioning and when it put anelement in its right position then it is creating a essentially two partitions in the left and in theright.And there are two partitioning schemes and they are Hoare Partition which is a britishwho invented quick sort and Lomuto Partition which is the way it works when it decides theend element is it's pivot.\n"
     ]
    }
   ],
   "source": [
    "print(\"Discuss your learnings on from Chapter 12\")\n",
    "print(\"The first element was called a pivot. And all the elements on the left hand side are smaller than all the elements on the right hand side which is greater than the left. In some way of putting the Pivot into its right position which is in the middle and the left side on it are elements which are less than the shaded number and in the right elements which are less than greater the shaded number. Two arrays which are the one in the left array are two andin the right array is only a single element number and if they have a single element then theyare called sorted.In divide and conquer problem, it solve the sort one element which is the pivot andcreate a left and right hand side of two partitions and it recursively repeat the same processon the partitions.Putting a pivot in the right position is called partitioning and when it put anelement in its right position then it is creating a essentially two partitions in the left and in theright.And there are two partitioning schemes and they are Hoare Partition which is a britishwho invented quick sort and Lomuto Partition which is the way it works when it decides theend element is it's pivot.\")"
   ]
  },
  {
   "cell_type": "code",
   "execution_count": 5,
   "id": "offshore-genre",
   "metadata": {},
   "outputs": [
    {
     "name": "stdout",
     "output_type": "stream",
     "text": [
      "Discuss your learnings on from Chapter 13\n",
      "Is to insert one or more data elements into an array. Based on the requirement, a new element can be added at the beginning, end, or any given index of array. If you have an unsorted list of numbers, one way you can sort this number is to create a different array on the left hand side. Imagining that picking the first element from theunsorted array must put it in the sorted array in such a way that array remains sorted. Whenthere are no element then we can just put the element directly and let the second elementnumber be put in that array to make the array remain sorted and putting the greater elementafter the less element and then picking the element number to the array after to the secondelement because that cannot be put at the end because it has to be after the third element.One element behind comes for the very first element, and the less element numbermust be put into the first place so much better to take that element from unsorted arraycompare it with the elements starting from the beginning in the sorted array when comparingit to the first element and found that the first element is greater that we must put it after theless number among the elements.\n"
     ]
    }
   ],
   "source": [
    "print(\"Discuss your learnings on from Chapter 13\")\n",
    "print(\"Is to insert one or more data elements into an array. Based on the requirement, a new element can be added at the beginning, end, or any given index of array. If you have an unsorted list of numbers, one way you can sort this number is to create a different array on the left hand side. Imagining that picking the first element from theunsorted array must put it in the sorted array in such a way that array remains sorted. Whenthere are no element then we can just put the element directly and let the second elementnumber be put in that array to make the array remain sorted and putting the greater elementafter the less element and then picking the element number to the array after to the secondelement because that cannot be put at the end because it has to be after the third element.One element behind comes for the very first element, and the less element numbermust be put into the first place so much better to take that element from unsorted arraycompare it with the elements starting from the beginning in the sorted array when comparingit to the first element and found that the first element is greater that we must put it after theless number among the elements.\")"
   ]
  },
  {
   "cell_type": "code",
   "execution_count": 6,
   "id": "adjustable-series",
   "metadata": {},
   "outputs": [
    {
     "name": "stdout",
     "output_type": "stream",
     "text": [
      "Discuss your learnings on from Chapter 14\n",
      "The whole goal of the sorting algorithm is to take an unsorted array and create a sorted array out of it right. Merging two sorted arrays into creating a single sorted array outof it must start with the first element in each of the arrays and compare them. The smallerelement will be put in the sorted array, and the second array which is on the right hand sidethen may move the pointer to the next element and compare the two elements. Then put thesmaller element into a sorted array and then move to another pointer and so on.If we have two sorted arrays, creating a single sorted array out of it is just easy. Ifhaving a totally random unsorted array then divide it into two arrays, and take first the fourelements and next to four elements then make it into two. And when having two arrays andmaking them to merge to each other you cannot merge the two elements if they are notsorted arrays but to merge them is to divide them knowing about the divide and conquer andusing recursion. And having all the arrays with only one element can be merged because anarray with a single element is already sorted.\n"
     ]
    }
   ],
   "source": [
    "print(\"Discuss your learnings on from Chapter 14\")\n",
    "print(\"The whole goal of the sorting algorithm is to take an unsorted array and create a sorted array out of it right. Merging two sorted arrays into creating a single sorted array outof it must start with the first element in each of the arrays and compare them. The smallerelement will be put in the sorted array, and the second array which is on the right hand sidethen may move the pointer to the next element and compare the two elements. Then put thesmaller element into a sorted array and then move to another pointer and so on.If we have two sorted arrays, creating a single sorted array out of it is just easy. Ifhaving a totally random unsorted array then divide it into two arrays, and take first the fourelements and next to four elements then make it into two. And when having two arrays andmaking them to merge to each other you cannot merge the two elements if they are notsorted arrays but to merge them is to divide them knowing about the divide and conquer andusing recursion. And having all the arrays with only one element can be merged because anarray with a single element is already sorted.\")"
   ]
  },
  {
   "cell_type": "code",
   "execution_count": 7,
   "id": "differential-marketing",
   "metadata": {},
   "outputs": [
    {
     "name": "stdout",
     "output_type": "stream",
     "text": [
      "Discuss your learnings on from Chapter 15\n",
      "Shell Sort is one of the important sorting algorithms. Shell Sort is an optimization over insertion sort. Shell sort is a highly efficient sorting algorithm and is based on insertion sort algorithm. This algorithm avoids large shifts as in case of insertion sort, if the smallervalue is to the far right and has to be moved to the far left. Again it is a generalized versionof the insertion sort algorithm. It first sorts elements that are far apart from each other andsuccessively reduces the interval between the elements to be sorted.The unique way that these sublists are chosen is the key to the shell sort. Instead ofbreaking the list into sublists of contiguous items, the shell sort uses an increment i,sometimes called the gap, to create a sublist by choosing all items that are i items apart.This list has nine items. If we use an increment of three, there are three sublists, each ofwhich can be sorted by an insertion sort. After completing these sorts, we get the list,although this list is not completely sorted, something very interesting has happened. Bysorting the sublists, we have moved the items closer to where they actually belong.\n"
     ]
    }
   ],
   "source": [
    "print(\"Discuss your learnings on from Chapter 15\")\n",
    "print(\"Shell Sort is one of the important sorting algorithms. Shell Sort is an optimization over insertion sort. Shell sort is a highly efficient sorting algorithm and is based on insertion sort algorithm. This algorithm avoids large shifts as in case of insertion sort, if the smallervalue is to the far right and has to be moved to the far left. Again it is a generalized versionof the insertion sort algorithm. It first sorts elements that are far apart from each other andsuccessively reduces the interval between the elements to be sorted.The unique way that these sublists are chosen is the key to the shell sort. Instead ofbreaking the list into sublists of contiguous items, the shell sort uses an increment i,sometimes called the gap, to create a sublist by choosing all items that are i items apart.This list has nine items. If we use an increment of three, there are three sublists, each ofwhich can be sorted by an insertion sort. After completing these sorts, we get the list,although this list is not completely sorted, something very interesting has happened. Bysorting the sublists, we have moved the items closer to where they actually belong.\")"
   ]
  },
  {
   "cell_type": "code",
   "execution_count": 8,
   "id": "junior-optimum",
   "metadata": {},
   "outputs": [
    {
     "name": "stdout",
     "output_type": "stream",
     "text": [
      "Discuss your learnings on from Chapter 16\n",
      "Selection sort is a sorting algorithm that selects the smallest element from an unsorted list in each iteration and places that element at the beginning of the unsorted list. The selection sort algorithm sorts an array by repeatedly finding the minimum element considering ascending order from the unsorted part and putting it at the beginning. The algorithm maintains two subarrays in a given array and that is the subarray which is already sorted and the remaining subarray which is unsorted. In every iteration of selection sort, the minimum element considering ascending order from the unsorted subarray is picked and moved to the sorted subarray. Having a list of numbers is to find a candidate for the first position and that candidate is the minimum number in the list and when you find the minimum number which is a small number in the middle of an array and swap it with the first element to make the first element sorted and moving to the second minimum element in the unsorted array and anything that start with the second element onwards is unshorted and the left side element is sorted array and in the unsorted area in the minimum element which is shorter than in the second element and swap the two element to put it into the right position.\n"
     ]
    }
   ],
   "source": [
    "print(\"Discuss your learnings on from Chapter 16\")\n",
    "print(\"Selection sort is a sorting algorithm that selects the smallest element from an unsorted list in each iteration and places that element at the beginning of the unsorted list. The selection sort algorithm sorts an array by repeatedly finding the minimum element considering ascending order from the unsorted part and putting it at the beginning. The algorithm maintains two subarrays in a given array and that is the subarray which is already sorted and the remaining subarray which is unsorted. In every iteration of selection sort, the minimum element considering ascending order from the unsorted subarray is picked and moved to the sorted subarray. Having a list of numbers is to find a candidate for the first position and that candidate is the minimum number in the list and when you find the minimum number which is a small number in the middle of an array and swap it with the first element to make the first element sorted and moving to the second minimum element in the unsorted array and anything that start with the second element onwards is unshorted and the left side element is sorted array and in the unsorted area in the minimum element which is shorter than in the second element and swap the two element to put it into the right position.\")"
   ]
  },
  {
   "cell_type": "code",
   "execution_count": 9,
   "id": "joined-detroit",
   "metadata": {},
   "outputs": [
    {
     "name": "stdout",
     "output_type": "stream",
     "text": [
      "Discuss your learnings on from Chapter 17\n",
      "It is a common mathematical and programming concept which means that a function calls itself. The concept of well-defined self-reference, it is the determination of a succession of elements by operating on one or more preceding elements according to a rule or a formula involving a finite number of steps. This has the benefit of meaning that you can loop through data to reach a result. However, when written correctly recursion can be a very efficient and mathematically-elegant approach to programming. Recursion is the process of defining something in terms of itself. A physical world example would be to place two parallel mirrors facing each other. Any object in between them would be reflected recursively. Recursion makes the code look clean and elegant. A complex task can be broken down into simpler sub-problems using recursion. Sequence generation is easier with recursion than using some nested iteration. But sometimes the logic behind recursion is hard to follow through. Recursion calls are expensive (inefficient) as they take up a lot of memory and time. Recursion ends when the number reduces to 1. This is called the base condition. Every recursive function must have a base condition that stops the recursion or else the function calls itself infinitely. Interpreter limits the depths of recursion to help avoid infinite recursions, resulting in stack overflows. By default, the maximum depth of recursion is 1000. If the limit is crossed, it results in RecursionError.\n"
     ]
    }
   ],
   "source": [
    "print(\"Discuss your learnings on from Chapter 17\")\n",
    "print(\"It is a common mathematical and programming concept which means that a function calls itself. The concept of well-defined self-reference, it is the determination of a succession of elements by operating on one or more preceding elements according to a rule or a formula involving a finite number of steps. This has the benefit of meaning that you can loop through data to reach a result. However, when written correctly recursion can be a very efficient and mathematically-elegant approach to programming. Recursion is the process of defining something in terms of itself. A physical world example would be to place two parallel mirrors facing each other. Any object in between them would be reflected recursively. Recursion makes the code look clean and elegant. A complex task can be broken down into simpler sub-problems using recursion. Sequence generation is easier with recursion than using some nested iteration. But sometimes the logic behind recursion is hard to follow through. Recursion calls are expensive (inefficient) as they take up a lot of memory and time. Recursion ends when the number reduces to 1. This is called the base condition. Every recursive function must have a base condition that stops the recursion or else the function calls itself infinitely. Interpreter limits the depths of recursion to help avoid infinite recursions, resulting in stack overflows. By default, the maximum depth of recursion is 1000. If the limit is crossed, it results in RecursionError.\")"
   ]
  },
  {
   "cell_type": "code",
   "execution_count": 11,
   "id": "recovered-sweet",
   "metadata": {},
   "outputs": [
    {
     "name": "stdout",
     "output_type": "stream",
     "text": [
      "Question#1: Implement the simple methods get_num and get_den that will return the numerator and denominator of a fraction.\n",
      "\n",
      "The fraction:  5/10\n",
      "Numerator:  5\n",
      "Denominator:  10\n"
     ]
    }
   ],
   "source": [
    "print(\"Question#1: Implement the simple methods get_num and get_den that will return the numerator and denominator of a fraction.\\n\")\n",
    "\n",
    "class Fraction:\n",
    "\n",
    "    def __init__(self, nume, deno):\n",
    "\n",
    "        self.num = nume        \n",
    "        self.den = deno     \n",
    "\n",
    "    def __str__(self):\n",
    "        return str(self.num) + \"/\" + str(self.den)\n",
    "\n",
    "    def getNum(self):\n",
    "        return self.num\n",
    "\n",
    "    def getDen(self):\n",
    "        return self.den\n",
    "\n",
    "myfraction = Fraction(5, 10)\n",
    "print(\"The fraction: \", myfraction)\n",
    "\n",
    "print(\"Numerator: \",myfraction.getNum())\n",
    "print(\"Denominator: \",myfraction.getDen())\n",
    "\n"
   ]
  },
  {
   "cell_type": "code",
   "execution_count": 22,
   "id": "vocational-spelling",
   "metadata": {},
   "outputs": [
    {
     "name": "stdout",
     "output_type": "stream",
     "text": [
      "Question#2: Research the __radd__ method. How does it differ from __add__? When is it used? Implement __radd__\n",
      "\n",
      "The implementation using __radd__ is: 35\n"
     ]
    }
   ],
   "source": [
    "print(\"Question#2: Research the __radd__ method. How does it differ from __add__? When is it used? Implement __radd__\\n\")\n",
    "\n",
    "class sample1:\n",
    "  def __init__(self, number):\n",
    "    self.num = number\n",
    "\n",
    "class sample2:\n",
    "  def __init__(self, number):\n",
    "    self.num = number\n",
    "\n",
    "  def __radd__(self, other_obj):\n",
    "    return sample2(self.num+other_obj.num)\n",
    "\n",
    "  def __str__(self):\n",
    "    return str(self.num)\n",
    "x = sample1(15)\n",
    "y = sample2(20)\n",
    "print(\"The implementation using __radd__ is:\", x+y)"
   ]
  },
  {
   "cell_type": "code",
   "execution_count": 15,
   "id": "emerging-holocaust",
   "metadata": {},
   "outputs": [
    {
     "name": "stdout",
     "output_type": "stream",
     "text": [
      "Question#3: Research the __repr__ method. How does it differ from __str__? When is it used? Implement __repr__\n",
      "\n",
      "\n",
      "Answer: \n",
      "\n",
      "__repr__ is used to compute the “official” string representation of an object and is typically used for debugging.\n",
      "\n",
      "While,\n",
      "\n",
      " __str__ is whatever you think is that object in text form\n",
      "\n",
      "This is the implemenation/syntax of __repr__\n",
      "\n",
      "Person name is Jhusthine and age is 20\n",
      "Person(name=Jhusthine, age=20)\n"
     ]
    }
   ],
   "source": [
    "print(\"Question#3: Research the __repr__ method. How does it differ from __str__? When is it used? Implement __repr__\\n\")\n",
    "print(\"\\nAnswer: \\n\")\n",
    "print(\"__repr__ is used to compute the “official” string representation of an object and is typically used for debugging.\")\n",
    "print(\"\\nWhile,\\n\\n __str__ is whatever you think is that object in text form\")\n",
    "print(\"\\nThis is the implemenation/syntax of __repr__\\n\")\n",
    "class Person:\n",
    "\n",
    "    def __init__(self, person_name, person_age):\n",
    "        self.name = person_name\n",
    "        self.age = person_age\n",
    "\n",
    "    def __str__(self):\n",
    "        return f'Person name is {self.name} and age is {self.age}'\n",
    "\n",
    "    def __repr__(self):\n",
    "        return f'Person(name={self.name}, age={self.age})'\n",
    "\n",
    "\n",
    "p = Person('Jhusthine', 20)\n",
    "\n",
    "print(p.__str__())\n",
    "print(p.__repr__())"
   ]
  },
  {
   "cell_type": "code",
   "execution_count": 16,
   "id": "acute-treat",
   "metadata": {},
   "outputs": [
    {
     "name": "stdout",
     "output_type": "stream",
     "text": [
      "Question#4: The most simple arithmetic circuit is known as the half adder. Research the simple half-adder circuit. Implement this circuit.\n",
      "\n",
      "Sum =  56\n",
      "Carry =  2\n"
     ]
    }
   ],
   "source": [
    "print(\"Question#4: The most simple arithmetic circuit is known as the half adder. Research the simple half-adder circuit. Implement this circuit.\\n\")\n",
    "\n",
    "def getResult(A, B):\n",
    "    Sum = A ^ B\n",
    "    \n",
    "    Carry = A & B\n",
    "    \n",
    "    print(\"Sum = \", Sum)\n",
    "    print(\"Carry = \", Carry)\n",
    "A = 50\n",
    "B = 10\n",
    "getResult(A, B)"
   ]
  },
  {
   "cell_type": "code",
   "execution_count": 17,
   "id": "little-venice",
   "metadata": {},
   "outputs": [
    {
     "name": "stdout",
     "output_type": "stream",
     "text": [
      "Question#5: Design a class to represent a playing card and another one to represent a deck of cards. Using these two classes, implement your favorite card game.\n",
      "\n",
      "<class '__main__.Deck'>\n",
      "Ace of Diamonds\n",
      "4 of Diamonds\n",
      "4 of Hearts\n",
      "10 of Hearts\n",
      "Queen of Spades\n"
     ]
    }
   ],
   "source": [
    "print(\"Question#5: Design a class to represent a playing card and another one to represent a deck of cards. Using these two classes, implement your favorite card game.\\n\")\n",
    "\n",
    "import random\n",
    "\n",
    "class Card(object):\n",
    "    \"\"\"represents a standard playing card.\"\"\"\n",
    "\n",
    "    suit_names = [\"Clubs\", \"Diamonds\", \"Hearts\", \"Spades\"]\n",
    "    rank_names = [None, \"Ace\", \"2\", \"3\", \"4\", \"5\", \"6\", \"7\", \n",
    "              \"8\", \"9\", \"10\", \"Jack\", \"Queen\", \"King\"]\n",
    "\n",
    "    def __init__(self, suit=0, rank=2):\n",
    "        self.suit = suit\n",
    "        self.rank = rank\n",
    "\n",
    "    def __str__(self):\n",
    "        return '%s of %s' % (Card.rank_names[self.rank],\n",
    "                             Card.suit_names[self.suit])\n",
    "\n",
    "    def __cmp__(self, other):\n",
    "        t1 = self.suit, self.rank\n",
    "        t2 = other.suit, other.rank\n",
    "        return cmp(t1, t2)\n",
    "\n",
    "    def __lt__(self, other):\n",
    "        if self.suit < other.suit:\n",
    "            return True\n",
    "        elif self.suit > other.suit:\n",
    "            return False\n",
    "        else:\n",
    "            return self.rank < other.rank\n",
    "\n",
    "\n",
    "class Deck(object):\n",
    "    \"\"\"represents a deck of cards\"\"\"\n",
    "    \n",
    "    def __init__(self):\n",
    "        self.cards = []\n",
    "        for suit in range(4):\n",
    "            for rank in range(1, 14):\n",
    "                card = Card(suit, rank)\n",
    "                self.cards.append(card)\n",
    "\n",
    "    def __str__(self):\n",
    "        res = []\n",
    "        for card in self.cards:\n",
    "            res.append(str(card))\n",
    "        return '\\n'.join(res)\n",
    "\n",
    "    def add_card(self, card):\n",
    "        \"\"\"add a card to the deck\"\"\"\n",
    "        self.cards.append(card)\n",
    "\n",
    "    def pop_card(self, i=-1):\n",
    "        \"\"\"remove and return a card from the deck.\n",
    "        By default, pop the last card.\"\"\"\n",
    "        return self.cards.pop(i)\n",
    "\n",
    "    def shuffle(self):\n",
    "        \"\"\"shuffle the cards in this deck\"\"\"\n",
    "        random.shuffle(self.cards)\n",
    "\n",
    "    def sort(self):\n",
    "        \"\"\"sort the cards in ascending order\"\"\"\n",
    "        self.cards.sort()\n",
    "\n",
    "    def move_cards(self, hand, num):\n",
    "        \"\"\"move the given number of cards from the deck into the Hand\"\"\"\n",
    "        for i in range(num):\n",
    "            hand.add_card(self.pop_card())\n",
    "\n",
    "\n",
    "class Hand(Deck):\n",
    "    \"\"\"represents a hand of playing cards\"\"\"\n",
    "    \n",
    "    def __init__(self, label=''):\n",
    "        self.label = label\n",
    "        self.cards = []\n",
    "\n",
    "\n",
    "def find_defining_class(obj, meth_name):\n",
    "    \"\"\"find and return the class object that will provide \n",
    "    the definition of meth_name (as a string) if it is\n",
    "    invoked on obj.\n",
    "    \"\"\"\n",
    "    for ty in type(obj).mro():\n",
    "        if meth_name in ty.__dict__:\n",
    "            return ty\n",
    "    return None\n",
    "\n",
    "\n",
    "if __name__ == '__main__':\n",
    "    deck = Deck()\n",
    "    deck.shuffle()\n",
    "\n",
    "    hand = Hand()\n",
    "    print(find_defining_class(hand, 'shuffle'))\n",
    "\n",
    "    deck.move_cards(hand, 5)\n",
    "    hand.sort()\n",
    "    print(hand)\n",
    "\n",
    "\n"
   ]
  },
  {
   "cell_type": "code",
   "execution_count": 19,
   "id": "legitimate-superintendent",
   "metadata": {},
   "outputs": [
    {
     "name": "stdout",
     "output_type": "stream",
     "text": [
      "Question#6: Design and implement an experiment to do benchmark comparisons of the two queue(enqueue,dequeue) implementations. What can you learn from such an experiment?\n",
      "\n",
      "10 enqueued to queue\n",
      "20 enqueued to queue\n",
      "30 enqueued to queue\n",
      "40 enqueued to queue\n",
      "10 dequeued from queue\n",
      "Front item is 20\n",
      "Rear item is 40\n"
     ]
    }
   ],
   "source": [
    "print(\"Question#6: Design and implement an experiment to do benchmark comparisons of the two queue(enqueue,dequeue) implementations. What can you learn from such an experiment?\\n\")\n",
    "class Queue:\n",
    " \n",
    "    # __init__ function\n",
    "    def __init__(self, capacity):\n",
    "        self.front = self.size = 0\n",
    "        self.rear = capacity -1\n",
    "        self.Q = [None]*capacity\n",
    "        self.capacity = capacity\n",
    "     \n",
    "    # Queue is full when size becomes\n",
    "    # equal to the capacity\n",
    "    def isFull(self):\n",
    "        return self.size == self.capacity\n",
    "     \n",
    "    # Queue is empty when size is 0\n",
    "    def isEmpty(self):\n",
    "        return self.size == 0\n",
    "\n",
    "    def EnQueue(self, item):\n",
    "        if self.isFull():\n",
    "            print(\"Full\")\n",
    "            return\n",
    "        self.rear = (self.rear + 1) % (self.capacity)\n",
    "        self.Q[self.rear] = item\n",
    "        self.size = self.size + 1\n",
    "        print(\"% s enqueued to queue\"  % str(item))\n",
    " \n",
    "    # Function to remove an item from queue.\n",
    "    # It changes front and size\n",
    "    def DeQueue(self):\n",
    "        if self.isEmpty():\n",
    "            print(\"Empty\")\n",
    "            return\n",
    "         \n",
    "        print(\"% s dequeued from queue\" % str(self.Q[self.front]))\n",
    "        self.front = (self.front + 1) % (self.capacity)\n",
    "        self.size = self.size -1\n",
    "\n",
    "    def que_front(self):\n",
    "        if self.isEmpty():\n",
    "            print(\"Queue is empty\")\n",
    " \n",
    "        print(\"Front item is\", self.Q[self.front])\n",
    "         \n",
    "    # Function to get rear of queue\n",
    "    def que_rear(self):\n",
    "        if self.isEmpty():\n",
    "            print(\"Queue is empty\")\n",
    "        print(\"Rear item is\",  self.Q[self.rear])\n",
    " \n",
    " \n",
    "# Driver Code\n",
    "if __name__ == '__main__':\n",
    " \n",
    "    queue = Queue(30)\n",
    "    queue.EnQueue(10)\n",
    "    queue.EnQueue(20)\n",
    "    queue.EnQueue(30)\n",
    "    queue.EnQueue(40)\n",
    "    queue.DeQueue()\n",
    "    queue.que_front()\n",
    "    queue.que_rear()\n",
    "\n",
    "\n"
   ]
  },
  {
   "cell_type": "code",
   "execution_count": 21,
   "id": "invisible-potter",
   "metadata": {},
   "outputs": [
    {
     "name": "stdout",
     "output_type": "stream",
     "text": [
      "Question#7: Consider a real life situation. Formulate a question and then design a simulation that can help to answer it. Possible situations include: \n",
      "\n",
      "\t a. Cars lined up at a car wash\n",
      "\t b. Customers at a grocery store check-out\n",
      "\t c. Airplanes taking off and landing on a runway\n",
      "\t d. A bank teller\n",
      "\tBe sure to state any assumptions that you make and provide any probabilistic data that must be considered as part of the scenario.\n",
      "question: A. How many car can be wash in 1 hour\n",
      "question: B. How many customer can be check out in 1 hour\n",
      "question: C. How many airplanes can btake off and landing on a runway\n",
      "question: D. How many hours can the bank teller cater 2 person\n"
     ]
    },
    {
     "ename": "ImportError",
     "evalue": "cannot import name 'Node' from 'collections' (c:\\users\\emachines\\appdata\\local\\programs\\python\\python39\\lib\\collections\\__init__.py)",
     "output_type": "error",
     "traceback": [
      "\u001b[1;31m---------------------------------------------------------------------------\u001b[0m",
      "\u001b[1;31mImportError\u001b[0m                               Traceback (most recent call last)",
      "\u001b[1;32m<ipython-input-21-c926e791a016>\u001b[0m in \u001b[0;36m<module>\u001b[1;34m\u001b[0m\n\u001b[0;32m     13\u001b[0m \u001b[1;33m\u001b[0m\u001b[0m\n\u001b[0;32m     14\u001b[0m \u001b[1;32mimport\u001b[0m \u001b[0mrandom\u001b[0m\u001b[1;33m\u001b[0m\u001b[1;33m\u001b[0m\u001b[0m\n\u001b[1;32m---> 15\u001b[1;33m \u001b[1;32mfrom\u001b[0m \u001b[0mcollections\u001b[0m \u001b[1;32mimport\u001b[0m \u001b[0mNode\u001b[0m\u001b[1;33m,\u001b[0m \u001b[0mLinkedlist\u001b[0m\u001b[1;33m\u001b[0m\u001b[1;33m\u001b[0m\u001b[0m\n\u001b[0m\u001b[0;32m     16\u001b[0m \u001b[1;33m\u001b[0m\u001b[0m\n\u001b[0;32m     17\u001b[0m \u001b[1;32mclass\u001b[0m \u001b[0mQueue\u001b[0m\u001b[1;33m(\u001b[0m\u001b[0mobject\u001b[0m\u001b[1;33m)\u001b[0m\u001b[1;33m:\u001b[0m\u001b[1;33m\u001b[0m\u001b[1;33m\u001b[0m\u001b[0m\n",
      "\u001b[1;31mImportError\u001b[0m: cannot import name 'Node' from 'collections' (c:\\users\\emachines\\appdata\\local\\programs\\python\\python39\\lib\\collections\\__init__.py)"
     ]
    }
   ],
   "source": [
    "print(\"Question#7: Consider a real life situation. Formulate a question and then design a simulation that can help to answer it. Possible situations include: \\n\")\n",
    "print(\"\\t a. Cars lined up at a car wash\")\n",
    "print(\"\\t b. Customers at a grocery store check-out\")\n",
    "print(\"\\t c. Airplanes taking off and landing on a runway\")\n",
    "print(\"\\t d. A bank teller\")\n",
    "print(\"\\tBe sure to state any assumptions that you make and provide any probabilistic data that must be considered as part of the scenario.\")\n",
    "\n",
    "\n",
    "print(\"question: A. How many car can be wash in 1 hour\")\n",
    "print(\"question: B. How many customer can be check out in 1 hour\")\n",
    "print(\"question: C. How many airplanes can btake off and landing on a runway\")\n",
    "print(\"question: D. How many hours can the bank teller cater 2 person\")\n",
    "\n",
    "import random\n",
    "from collections import Node, Linkedlist\n",
    "\n",
    "class Queue(object):\n",
    "    def __init__(self):\n",
    "        self.items = []\n",
    "\n",
    "    def isEmpty(self):\n",
    "        return self.items == []\n",
    "\n",
    "    def enqueue(self, item):\n",
    "        self.items.insert(0, item)\n",
    "\n",
    "    def dequeue(self):\n",
    "        return self.items.pop()\n",
    "\n",
    "    def size(self):\n",
    "        return len(self.items)\n",
    "\n",
    "\n",
    "\n",
    "# Radix Sorting Machine\n",
    "def radixSorting(base, num):\n",
    "    main = Queue()\n",
    "    sub_bins = [Queue() for i in range(base)]\n",
    "    int_str = ''\n",
    "    while num > 0:\n",
    "        n = num % base\n",
    "        sub_bins[n].enqueue(n)\n",
    "        num = num // 10\n",
    "    for q in sub_bins:\n",
    "        while q.size() > 0:\n",
    "            int_str = int_str + str(q.dequeue())\n",
    "    return int_str\n",
    "\n",
    "\n",
    "\n",
    "\n",
    "\n",
    "\n",
    "class Plane(object):\n",
    "    def __init__(self, num, current_time):\n",
    "        self.arrive_time = current_time\n",
    "        self.num = num\n",
    "\n",
    "    def getArriveTime(self):\n",
    "        return self.arrive_time\n",
    "\n",
    "    def getPlaneNum(self):\n",
    "        return self.num\n",
    "\n",
    "\n",
    "class Airport(object):\n",
    "    def __init__(self):\n",
    "        self.arrivals = Queue()\n",
    "        self.wait_times = []\n",
    "        self.plane_count = 1\n",
    "        self.busy = False\n",
    "        self.runwayTimer = 1\n",
    "\n",
    "    def addPlane(self, current_time):\n",
    "        self.arrivals.enqueue(Plane(self.plane_count, current_time))\n",
    "        self.plane_count += 1\n",
    "\n",
    "    def landPlane(self, current_time):\n",
    "        p = self.arrivals.dequeue()\n",
    "        self.addWaitTime(current_time, p.getArriveTime())\n",
    "        self.busy = True\n",
    "\n",
    "    def addWaitTime(self, current_time, arrive_time):\n",
    "        self.wait_times.append(current_time - arrive_time)\n",
    "\n",
    "    def isRunwayBusy(self):\n",
    "        return self.busy\n",
    "\n",
    "    def clearRunway(self):\n",
    "        if self.runwayTimer == 7:\n",
    "            self.busy = False\n",
    "            self.runwayTimer = 1\n",
    "        self.runwayTimer += 1\n",
    "\n",
    "    def waitingToLand(self):\n",
    "        return self.arrivals.size()\n",
    "\n",
    "\n",
    "def randomArrival(arrival_num):\n",
    "    chance = random.randrange(1,arrival_num+1)\n",
    "    return chance == 10\n",
    "        \n",
    "\n",
    "def airport_simulation(time):\n",
    "    a = Airport()\n",
    "    current_time = 0\n",
    "    while current_time < time:\n",
    "        current_time += 1\n",
    "        if randomArrival(10):\n",
    "            a.addPlane(current_time)\n",
    "        if a.waitingToLand() > 0:\n",
    "            if not a.isRunwayBusy():\n",
    "                a.landPlane(current_time)\n",
    "            else:\n",
    "                a.clearRunway()\n",
    "    return a.wait_times, a.waitingToLand()\n",
    "\n",
    "\n",
    "def average(num_list):\n",
    "    return float(sum(num_list)) / len(num_list)\n",
    "\n",
    "\n",
    "class Deque(object):\n",
    "    def __init__(self):\n",
    "        self.items = []\n",
    "\n",
    "    def size(self):\n",
    "        return len(self.items)\n",
    "\n",
    "    def isEmpty(self):\n",
    "        return self.items == []\n",
    "\n",
    "    \n",
    "    def addFront(self, item):\n",
    "        self.items.append(item)\n",
    "\n",
    "    \n",
    "    def addRear(self, item):\n",
    "        self.items = self.items.insert(0,item)\n",
    "\n",
    "    \n",
    "    def removeFront(self):\n",
    "        return self.items.pop()\n",
    "\n",
    "    \n",
    "    def removeRear(self):\n",
    "        return self.items.pop(0)\n",
    "\n",
    "\n",
    "html_doc = \"\"\"\n",
    "<html>\n",
    "   <head>\n",
    "      <title>\n",
    "         Example\n",
    "      </title>\n",
    "   </head>\n",
    "   <body>\n",
    "      <h1>Hello, world</h1>\n",
    "   </body>\n",
    "</html>\n",
    "\"\"\"\n",
    "\n",
    " \n",
    "def validHTML(html):\n",
    "    d = Deque()\n",
    "    i = 0\n",
    "    while i < len(html):\n",
    "        if html[i:i+2] == '</':\n",
    "            print(\"adding close tag\")\n",
    "            d.addFront('e')\n",
    "            i += 2\n",
    "        elif html[i] == '<':\n",
    "            d.addFront('o')\n",
    "            i += 1\n",
    "        elif html[i] == '>':\n",
    "            d.addFront('c')\n",
    "            i += 1\n",
    "        else:\n",
    "            i += 1\n",
    "\n",
    "    \n",
    "    open_count = 0\n",
    "    close_count = 0\n",
    "    while d.size() > 1:\n",
    "        next_str = d.removeRear() + d.removeRear()\n",
    "        print(next_str)\n",
    "        if close_count > open_count:\n",
    "            print(\"close count greater than open count\")\n",
    "            return False\n",
    "        elif next_str not in ['oc','ec']:\n",
    "            print(\"bracket not valid HTML\")\n",
    "            return False\n",
    "        elif next_str == 'oc':\n",
    "            open_count += 1\n",
    "        elif next_str == 'ec':\n",
    "            close_count += 1\n",
    "    print(open_count)\n",
    "    print(close_count)\n",
    "    return open_count == close_count\n",
    "\n",
    "\n",
    "\n",
    "def extractBrackets(html):\n",
    "    d = Deque()\n",
    "       \n",
    "    i = 0\n",
    "    while i < len(html):\n",
    "        print(i)\n",
    "        if html[i:i+2] == '</':\n",
    "            d.addRear('e')\n",
    "            i += 2\n",
    "        elif html[i] == '<':\n",
    "            d.addRear('o')\n",
    "            i += 1\n",
    "        elif html[i] == '>':\n",
    "            d.addFront('c')\n",
    "            i += 1\n",
    "        else:\n",
    "            i += 1\n",
    "    return d\n",
    "\n",
    "\n",
    "class Stack:\n",
    "    def __init__(self):\n",
    "        self.items = LinkedList()\n",
    "\n",
    "    def getItems(self):\n",
    "        return self.items\n",
    "\n",
    "    def size(self):\n",
    "        return self.items.size()\n",
    "\n",
    "    def push(self, item):\n",
    "        self.items.append(item)\n",
    "\n",
    "    def pop(self):\n",
    "        return self.items.pop()\n",
    "\n",
    "    def isEmpty(self):\n",
    "        return self.items.isEmpty()\n",
    "    \n",
    "\n",
    "\n",
    "s1 = Stack()\n",
    "print(s1.size())\n",
    "print(s1.push('hey'))\n",
    "print(s1.pop())\n",
    "print(s1.push(3))\n",
    "print(s1.push(2))\n",
    "print(s1.getItems())\n",
    "print(s1.size())\n",
    "print(s1.isEmpty())\n",
    "\n",
    "\n",
    "\n",
    "class Queue(object):\n",
    "    def __init__(self):\n",
    "        self.items = []\n",
    "        \n",
    "        self.last = -1\n",
    "\n",
    "    def isEmpty(self):\n",
    "        return self.items == []\n",
    "\n",
    "    def enqueue(self, item):\n",
    "        self.last += 1\n",
    "        self.items.insert(0, item)\n",
    "\n",
    "    def dequeue(self):\n",
    "        self.last -= 1\n",
    "        return self.items.pop()\n",
    "        \n",
    "    def size(self):\n",
    "        return len(self.items)\n"
   ]
  },
  {
   "cell_type": "code",
   "execution_count": 23,
   "id": "constant-creek",
   "metadata": {},
   "outputs": [
    {
     "name": "stdout",
     "output_type": "stream",
     "text": [
      "Question#8: Implement a queue using linked lists.\n"
     ]
    },
    {
     "data": {
      "text/plain": [
       "3"
      ]
     },
     "execution_count": 23,
     "metadata": {},
     "output_type": "execute_result"
    }
   ],
   "source": [
    "print(\"Question#8: Implement a queue using linked lists.\")\n",
    "\n",
    "from collections import deque\n",
    "que = deque()\n",
    "stock_price_queue = []\n",
    "stock_price_queue.insert(0, 132.10)\n",
    "stock_price_queue.insert(0, 134.12)\n",
    "stock_price_queue.insert(0, 136)\n",
    "\n",
    "stock_price_queue.pop()\n",
    "\n",
    "que.append(2)\n",
    "que.append(1)\n",
    "que.append(3)\n",
    "que.pop()\n"
   ]
  },
  {
   "cell_type": "code",
   "execution_count": 24,
   "id": "cheap-nickel",
   "metadata": {},
   "outputs": [
    {
     "name": "stdout",
     "output_type": "stream",
     "text": [
      "Question#9: Write a recursive function to compute the factorial of a number.\n"
     ]
    },
    {
     "name": "stdin",
     "output_type": "stream",
     "text": [
      "Enter n number of factorial:  6\n"
     ]
    },
    {
     "name": "stdout",
     "output_type": "stream",
     "text": [
      "6 * 5 * 4 * 3 * 2 * 1\n",
      "The factorial of 6 is 720\n"
     ]
    }
   ],
   "source": [
    "print(\"Question#9: Write a recursive function to compute the factorial of a number.\")\n",
    "def factorial(n):\n",
    "    if n == 1:\n",
    "        print(n)\n",
    "        return 1\n",
    "    \n",
    "    else:\n",
    "        print(n, \"*\", end = \" \")\n",
    "        return n * factorial(n-1) \n",
    "number = int(input(\"Enter n number of factorial: \"))\n",
    "print(\"The factorial of\", number, \"is\", factorial(number))\n",
    "\n",
    "def recursive(n):\n",
    "    if n <= 1:\n",
    "        return n\n",
    "    else:\n",
    "        return(recursive(n-1) + recursive(n-2))\n",
    "\n",
    "\n",
    "\n",
    "\n",
    "\n",
    "\n",
    "\n"
   ]
  },
  {
   "cell_type": "code",
   "execution_count": 25,
   "id": "desperate-richmond",
   "metadata": {},
   "outputs": [
    {
     "name": "stdout",
     "output_type": "stream",
     "text": [
      "Question#10: Set up a random experiment to test the difference between a sequential search and a binary search on a list of integers.\n",
      "\n",
      "Sequential Search\n",
      "Element is present at index 3\n",
      "\n",
      "Binary Search\n",
      "The item t= 10 was not found.\n"
     ]
    }
   ],
   "source": [
    "print(\"Question#10: Set up a random experiment to test the difference between a sequential search and a binary search on a list of integers.\")\n",
    "print(\"\\nSequential Search\")\n",
    "\n",
    "def search(arr, n, x):\n",
    " \n",
    "    for i in range(0, n):\n",
    "        if (arr[i] == x):\n",
    "            return i\n",
    "    return -1\n",
    " \n",
    " \n",
    "# Driver Code\n",
    "arr = [2, 3, 4, 10, 40]\n",
    "x = 10\n",
    "n = len(arr)\n",
    " \n",
    "# Function call\n",
    "result = search(arr, n, x)\n",
    "if(result == -1):\n",
    "    print(\"Element is not present in array\")\n",
    "else:\n",
    "    print(\"Element is present at index\", result)\n",
    "\n",
    "\n",
    "\n",
    "\n",
    "print(\"\\nBinary Search\")\n",
    "\n",
    "def binarySearch(alist, item):\n",
    "    first = 0\n",
    "    last = len(alist)-1\n",
    "    found = False\n",
    "    \n",
    "    while first <= last and not found:\n",
    "        midpoint = (first + last)//2\n",
    "        if alist[midpoint] == item:\n",
    "            found = True\n",
    "        else:\n",
    "            if item < alist[midpoint]:\n",
    "                last = midpoint - 1\n",
    "            else:\n",
    "                first = midpoint + 1\n",
    "    return (found, midpoint)\n",
    "\n",
    "testlist = [0, 1, 2, 8, 13, 15, 19, 32, 42]\n",
    "item = 10\n",
    "(found,k) = binarySearch(testlist, item)\n",
    "if found == True:\n",
    "    print('The item t= %s was found at testlist[%s]') %(item, k)\n",
    "else:\n",
    "    print('The item t= %s was not found.' %item)\n"
   ]
  },
  {
   "cell_type": "code",
   "execution_count": 26,
   "id": "moderate-firmware",
   "metadata": {},
   "outputs": [
    {
     "name": "stdout",
     "output_type": "stream",
     "text": [
      "Question#11: Suppose you are a computer scientist/art thief who has broken into a major art gallery. All you have with you to haul out your stolen art is your knapsack which only holds W pounds of art, but for every piece of art you know its value and its weight. Write a dynamic programming function to help you maximize your profit. Here is a sample problem for you to use to get started: Suppose your knapsack can hold a total weight of 20. You have 5 items as follows:\n"
     ]
    },
    {
     "ename": "NameError",
     "evalue": "name 'knapWeight' is not defined",
     "output_type": "error",
     "traceback": [
      "\u001b[1;31m---------------------------------------------------------------------------\u001b[0m",
      "\u001b[1;31mNameError\u001b[0m                                 Traceback (most recent call last)",
      "\u001b[1;32m<ipython-input-26-4497dc19fabe>\u001b[0m in \u001b[0;36m<module>\u001b[1;34m\u001b[0m\n\u001b[0;32m     42\u001b[0m \u001b[0mrecurse\u001b[0m \u001b[1;33m=\u001b[0m \u001b[1;32mTrue\u001b[0m\u001b[1;33m\u001b[0m\u001b[1;33m\u001b[0m\u001b[0m\n\u001b[0;32m     43\u001b[0m \u001b[1;32mif\u001b[0m \u001b[0mrecurse\u001b[0m\u001b[1;33m:\u001b[0m\u001b[1;33m\u001b[0m\u001b[1;33m\u001b[0m\u001b[0m\n\u001b[1;32m---> 44\u001b[1;33m         \u001b[0mmaxProfits\u001b[0m \u001b[1;33m=\u001b[0m \u001b[1;33m[\u001b[0m\u001b[1;36m0\u001b[0m\u001b[1;33m]\u001b[0m \u001b[1;33m*\u001b[0m \u001b[1;33m(\u001b[0m\u001b[0mknapWeight\u001b[0m \u001b[1;33m+\u001b[0m \u001b[1;36m1\u001b[0m\u001b[1;33m)\u001b[0m\u001b[1;33m\u001b[0m\u001b[1;33m\u001b[0m\u001b[0m\n\u001b[0m\u001b[0;32m     45\u001b[0m         \u001b[0mweightsUsed\u001b[0m \u001b[1;33m=\u001b[0m \u001b[1;33m[\u001b[0m\u001b[1;36m0\u001b[0m\u001b[1;33m]\u001b[0m \u001b[1;33m*\u001b[0m \u001b[1;33m(\u001b[0m\u001b[0mknapWeight\u001b[0m \u001b[1;33m+\u001b[0m \u001b[1;36m1\u001b[0m\u001b[1;33m)\u001b[0m\u001b[1;33m\u001b[0m\u001b[1;33m\u001b[0m\u001b[0m\n\u001b[0;32m     46\u001b[0m \u001b[1;33m\u001b[0m\u001b[0m\n",
      "\u001b[1;31mNameError\u001b[0m: name 'knapWeight' is not defined"
     ]
    }
   ],
   "source": [
    "print(\"Question#11: Suppose you are a computer scientist/art thief who has broken into a major art gallery. All you have with you to haul out your stolen art is your knapsack which only holds W pounds of art, but for every piece of art you know its value and its weight. Write a dynamic programming function to help you maximize your profit. Here is a sample problem for you to use to get started: Suppose your knapsack can hold a total weight of 20. You have 5 items as follows:\")\n",
    "\n",
    "class StolenItem:\n",
    "\tdef __init__(self, theID, theValue, theWeight):\n",
    "\t\tself.ID = theID\n",
    "\t\tself.value = theValue\n",
    "\t\tself.weight = theWeight\n",
    "\n",
    "def dpMaxProfit (itemList, knapWeight, maxProfits, weightsUsed):\n",
    "\tmaxProfit = 0\n",
    "\n",
    "\tfor knapWeights in range (knapWeight + 1):\n",
    "\t\tprint(\"KNAPWEIGHT:\", knapWeights - 1, \" \", maxProfits)\n",
    "\t\tnewItem = itemList[0]\n",
    "\n",
    "\t\tfor item in [x for x in itemList if x.weight <= knapWeights]:\n",
    "\t\t\tif maxProfits[knapWeights - item.weight] + item.value > maxProfit: \n",
    "\t\t\t\tmaxProfit = maxProfits[knapWeights - item.weight] + item.value\n",
    "\t\t\t\tnewItem = item\n",
    "\t\tmaxProfits[knapWeights] = maxProfit\n",
    "\t\tweightsUsed[knapWeights] = newItem.weight\n",
    "\n",
    "\treturn(maxProfits[knapWeight])\n",
    "\t\n",
    "def reMaxProfit(itemList, knapWeight):\n",
    "\tif knapWeight < 1:\n",
    "\t\treturn 0 \n",
    "\n",
    "\tl1 = [x for x in itemList if x.weight <= knapWeight]\t\n",
    "\tprofitList = [(item.value + reMaxProfit(itemList, knapWeight-item.weight)) for item in l1]\n",
    "\n",
    "\tif len(profitList) > 0:\n",
    "\t\treturn max(profitList)\n",
    "\telse:\n",
    "\t\treturn 0 \n",
    "\t\t\n",
    "def _weightsUsed(weightList, knapWeight):\n",
    "\tweight = knapWeight\n",
    "\twhile weight > 0:\n",
    "\t\tprint(weightList[weight])\n",
    "\t\tweight -= weightList[weight]\n",
    "recurse = True\n",
    "if recurse:\n",
    "\tmaxProfits = [0] * (knapWeight + 1)\n",
    "\tweightsUsed = [0] * (knapWeight + 1)\n",
    "\n",
    "def main():\n",
    "\titemList = [StolenItem(1,3,2), StolenItem(2,4,3), StolenItem(3,8,4), StolenItem(4,8,5), StolenItem(5,10,9)]\n",
    "\tknapWeight = 20\n",
    "\tif itemsList !=  recurse:\n",
    "\t\tmaxProfits = [0] * (knapWeight + 1)\n",
    "\t\tweightsUsed = [0] * (knapWeight + 1)\n",
    "\t\tprint((dpMaxProfit(itemList, knapWeight, maxProfits, weightsUsed)))\n",
    "\t\tprint(_weightsUsed(weightsUsed, knapWeight))\n",
    "\telse:\t\n",
    "\t\tprint((reMaxProfit(itemList, knapWeight)))\n",
    "\n",
    "if __name__ == \"__main__\":\n",
    "\tmain()\n"
   ]
  },
  {
   "cell_type": "code",
   "execution_count": null,
   "id": "intensive-ghana",
   "metadata": {},
   "outputs": [],
   "source": []
  }
 ],
 "metadata": {
  "kernelspec": {
   "display_name": "Python 3",
   "language": "python",
   "name": "python3"
  },
  "language_info": {
   "codemirror_mode": {
    "name": "ipython",
    "version": 3
   },
   "file_extension": ".py",
   "mimetype": "text/x-python",
   "name": "python",
   "nbconvert_exporter": "python",
   "pygments_lexer": "ipython3",
   "version": "3.9.2"
  }
 },
 "nbformat": 4,
 "nbformat_minor": 5
}
